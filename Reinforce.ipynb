{
 "cells": [
  {
   "cell_type": "markdown",
   "metadata": {},
   "source": [
    "Setup packages"
   ]
  },
  {
   "cell_type": "code",
   "execution_count": 1,
   "metadata": {},
   "outputs": [
    {
     "ename": "ImportError",
     "evalue": "\n\nIMPORTANT: PLEASE READ THIS FOR ADVICE ON HOW TO SOLVE THIS ISSUE!\n\nImporting the numpy C-extensions failed. This error can happen for\nmany reasons, often due to issues with your setup or how NumPy was\ninstalled.\n\nWe have compiled some common reasons and troubleshooting tips at:\n\n    https://numpy.org/devdocs/user/troubleshooting-importerror.html\n\nPlease note and check the following:\n\n  * The Python version is: Python3.10 from \"/Users/billdeng/anaconda3/envs/de_novo/bin/python\"\n  * The NumPy version is: \"1.22.3\"\n\nand make sure that they are the versions you expect.\nPlease carefully study the documentation linked above for further help.\n\nOriginal error was: dlopen(/Users/billdeng/anaconda3/envs/de_novo/lib/python3.10/site-packages/numpy/core/_multiarray_umath.cpython-310-darwin.so, 0x0002): Library not loaded: @rpath/libopenblas.dylib\n  Referenced from: /Users/billdeng/anaconda3/envs/de_novo/lib/python3.10/site-packages/numpy/core/_multiarray_umath.cpython-310-darwin.so\n  Reason: tried: '/Users/billdeng/anaconda3/envs/de_novo/lib/libopenblas.dylib' (no such file), '/Users/billdeng/anaconda3/envs/de_novo/lib/libopenblas.dylib' (no such file), '/Users/billdeng/anaconda3/envs/de_novo/lib/python3.10/site-packages/numpy/core/../../../../libopenblas.dylib' (no such file), '/Users/billdeng/anaconda3/envs/de_novo/lib/libopenblas.dylib' (no such file), '/Users/billdeng/anaconda3/envs/de_novo/lib/libopenblas.dylib' (no such file), '/Users/billdeng/anaconda3/envs/de_novo/lib/python3.10/site-packages/numpy/core/../../../../libopenblas.dylib' (no such file), '/Users/billdeng/anaconda3/envs/de_novo/bin/../lib/libopenblas.dylib' (no such file), '/Users/billdeng/anaconda3/envs/de_novo/bin/../lib/libopenblas.dylib' (no such file), '/usr/local/lib/libopenblas.dylib' (no such file), '/usr/lib/libopenblas.dylib' (no such file)\n",
     "output_type": "error",
     "traceback": [
      "\u001B[0;31m---------------------------------------------------------------------------\u001B[0m",
      "\u001B[0;31mImportError\u001B[0m                               Traceback (most recent call last)",
      "File \u001B[0;32m~/anaconda3/envs/de_novo/lib/python3.10/site-packages/numpy/core/__init__.py:23\u001B[0m\n\u001B[1;32m     22\u001B[0m \u001B[38;5;28;01mtry\u001B[39;00m:\n\u001B[0;32m---> 23\u001B[0m     \u001B[38;5;28;01mfrom\u001B[39;00m \u001B[38;5;21;01m.\u001B[39;00m \u001B[38;5;28;01mimport\u001B[39;00m multiarray\n\u001B[1;32m     24\u001B[0m \u001B[38;5;28;01mexcept\u001B[39;00m \u001B[38;5;167;01mImportError\u001B[39;00m \u001B[38;5;28;01mas\u001B[39;00m exc:\n",
      "File \u001B[0;32m~/anaconda3/envs/de_novo/lib/python3.10/site-packages/numpy/core/multiarray.py:10\u001B[0m\n\u001B[1;32m      9\u001B[0m \u001B[38;5;28;01mimport\u001B[39;00m \u001B[38;5;21;01mfunctools\u001B[39;00m\n\u001B[0;32m---> 10\u001B[0m \u001B[38;5;28;01mfrom\u001B[39;00m \u001B[38;5;21;01m.\u001B[39;00m \u001B[38;5;28;01mimport\u001B[39;00m overrides\n\u001B[1;32m     11\u001B[0m \u001B[38;5;28;01mfrom\u001B[39;00m \u001B[38;5;21;01m.\u001B[39;00m \u001B[38;5;28;01mimport\u001B[39;00m _multiarray_umath\n",
      "File \u001B[0;32m~/anaconda3/envs/de_novo/lib/python3.10/site-packages/numpy/core/overrides.py:6\u001B[0m\n\u001B[1;32m      4\u001B[0m \u001B[38;5;28;01mimport\u001B[39;00m \u001B[38;5;21;01mos\u001B[39;00m\n\u001B[0;32m----> 6\u001B[0m \u001B[38;5;28;01mfrom\u001B[39;00m \u001B[38;5;21;01mnumpy\u001B[39;00m\u001B[38;5;21;01m.\u001B[39;00m\u001B[38;5;21;01mcore\u001B[39;00m\u001B[38;5;21;01m.\u001B[39;00m\u001B[38;5;21;01m_multiarray_umath\u001B[39;00m \u001B[38;5;28;01mimport\u001B[39;00m (\n\u001B[1;32m      7\u001B[0m     add_docstring, implement_array_function, _get_implementing_args)\n\u001B[1;32m      8\u001B[0m \u001B[38;5;28;01mfrom\u001B[39;00m \u001B[38;5;21;01mnumpy\u001B[39;00m\u001B[38;5;21;01m.\u001B[39;00m\u001B[38;5;21;01mcompat\u001B[39;00m\u001B[38;5;21;01m.\u001B[39;00m\u001B[38;5;21;01m_inspect\u001B[39;00m \u001B[38;5;28;01mimport\u001B[39;00m getargspec\n",
      "\u001B[0;31mImportError\u001B[0m: dlopen(/Users/billdeng/anaconda3/envs/de_novo/lib/python3.10/site-packages/numpy/core/_multiarray_umath.cpython-310-darwin.so, 0x0002): Library not loaded: @rpath/libopenblas.dylib\n  Referenced from: /Users/billdeng/anaconda3/envs/de_novo/lib/python3.10/site-packages/numpy/core/_multiarray_umath.cpython-310-darwin.so\n  Reason: tried: '/Users/billdeng/anaconda3/envs/de_novo/lib/libopenblas.dylib' (no such file), '/Users/billdeng/anaconda3/envs/de_novo/lib/libopenblas.dylib' (no such file), '/Users/billdeng/anaconda3/envs/de_novo/lib/python3.10/site-packages/numpy/core/../../../../libopenblas.dylib' (no such file), '/Users/billdeng/anaconda3/envs/de_novo/lib/libopenblas.dylib' (no such file), '/Users/billdeng/anaconda3/envs/de_novo/lib/libopenblas.dylib' (no such file), '/Users/billdeng/anaconda3/envs/de_novo/lib/python3.10/site-packages/numpy/core/../../../../libopenblas.dylib' (no such file), '/Users/billdeng/anaconda3/envs/de_novo/bin/../lib/libopenblas.dylib' (no such file), '/Users/billdeng/anaconda3/envs/de_novo/bin/../lib/libopenblas.dylib' (no such file), '/usr/local/lib/libopenblas.dylib' (no such file), '/usr/lib/libopenblas.dylib' (no such file)",
      "\nDuring handling of the above exception, another exception occurred:\n",
      "\u001B[0;31mImportError\u001B[0m                               Traceback (most recent call last)",
      "Cell \u001B[0;32mIn[1], line 1\u001B[0m\n\u001B[0;32m----> 1\u001B[0m \u001B[38;5;28;01mimport\u001B[39;00m \u001B[38;5;21;01mnumpy\u001B[39;00m \u001B[38;5;28;01mas\u001B[39;00m \u001B[38;5;21;01mnp\u001B[39;00m\n\u001B[1;32m      2\u001B[0m \u001B[38;5;28;01mfrom\u001B[39;00m \u001B[38;5;21;01mcollections\u001B[39;00m \u001B[38;5;28;01mimport\u001B[39;00m defaultdict\n\u001B[1;32m      3\u001B[0m \u001B[38;5;28;01mimport\u001B[39;00m \u001B[38;5;21;01mrandom\u001B[39;00m\n",
      "File \u001B[0;32m~/anaconda3/envs/de_novo/lib/python3.10/site-packages/numpy/__init__.py:144\u001B[0m\n\u001B[1;32m    141\u001B[0m \u001B[38;5;66;03m# Allow distributors to run custom init code\u001B[39;00m\n\u001B[1;32m    142\u001B[0m \u001B[38;5;28;01mfrom\u001B[39;00m \u001B[38;5;21;01m.\u001B[39;00m \u001B[38;5;28;01mimport\u001B[39;00m _distributor_init\n\u001B[0;32m--> 144\u001B[0m \u001B[38;5;28;01mfrom\u001B[39;00m \u001B[38;5;21;01m.\u001B[39;00m \u001B[38;5;28;01mimport\u001B[39;00m core\n\u001B[1;32m    145\u001B[0m \u001B[38;5;28;01mfrom\u001B[39;00m \u001B[38;5;21;01m.\u001B[39;00m\u001B[38;5;21;01mcore\u001B[39;00m \u001B[38;5;28;01mimport\u001B[39;00m \u001B[38;5;241m*\u001B[39m\n\u001B[1;32m    146\u001B[0m \u001B[38;5;28;01mfrom\u001B[39;00m \u001B[38;5;21;01m.\u001B[39;00m \u001B[38;5;28;01mimport\u001B[39;00m compat\n",
      "File \u001B[0;32m~/anaconda3/envs/de_novo/lib/python3.10/site-packages/numpy/core/__init__.py:49\u001B[0m\n\u001B[1;32m     25\u001B[0m     \u001B[38;5;28;01mimport\u001B[39;00m \u001B[38;5;21;01msys\u001B[39;00m\n\u001B[1;32m     26\u001B[0m     msg \u001B[38;5;241m=\u001B[39m \u001B[38;5;124m\"\"\"\u001B[39m\n\u001B[1;32m     27\u001B[0m \n\u001B[1;32m     28\u001B[0m \u001B[38;5;124mIMPORTANT: PLEASE READ THIS FOR ADVICE ON HOW TO SOLVE THIS ISSUE!\u001B[39m\n\u001B[0;32m   (...)\u001B[0m\n\u001B[1;32m     47\u001B[0m \u001B[38;5;124m\"\"\"\u001B[39m \u001B[38;5;241m%\u001B[39m (sys\u001B[38;5;241m.\u001B[39mversion_info[\u001B[38;5;241m0\u001B[39m], sys\u001B[38;5;241m.\u001B[39mversion_info[\u001B[38;5;241m1\u001B[39m], sys\u001B[38;5;241m.\u001B[39mexecutable,\n\u001B[1;32m     48\u001B[0m         __version__, exc)\n\u001B[0;32m---> 49\u001B[0m     \u001B[38;5;28;01mraise\u001B[39;00m \u001B[38;5;167;01mImportError\u001B[39;00m(msg)\n\u001B[1;32m     50\u001B[0m \u001B[38;5;28;01mfinally\u001B[39;00m:\n\u001B[1;32m     51\u001B[0m     \u001B[38;5;28;01mfor\u001B[39;00m envkey \u001B[38;5;129;01min\u001B[39;00m env_added:\n",
      "\u001B[0;31mImportError\u001B[0m: \n\nIMPORTANT: PLEASE READ THIS FOR ADVICE ON HOW TO SOLVE THIS ISSUE!\n\nImporting the numpy C-extensions failed. This error can happen for\nmany reasons, often due to issues with your setup or how NumPy was\ninstalled.\n\nWe have compiled some common reasons and troubleshooting tips at:\n\n    https://numpy.org/devdocs/user/troubleshooting-importerror.html\n\nPlease note and check the following:\n\n  * The Python version is: Python3.10 from \"/Users/billdeng/anaconda3/envs/de_novo/bin/python\"\n  * The NumPy version is: \"1.22.3\"\n\nand make sure that they are the versions you expect.\nPlease carefully study the documentation linked above for further help.\n\nOriginal error was: dlopen(/Users/billdeng/anaconda3/envs/de_novo/lib/python3.10/site-packages/numpy/core/_multiarray_umath.cpython-310-darwin.so, 0x0002): Library not loaded: @rpath/libopenblas.dylib\n  Referenced from: /Users/billdeng/anaconda3/envs/de_novo/lib/python3.10/site-packages/numpy/core/_multiarray_umath.cpython-310-darwin.so\n  Reason: tried: '/Users/billdeng/anaconda3/envs/de_novo/lib/libopenblas.dylib' (no such file), '/Users/billdeng/anaconda3/envs/de_novo/lib/libopenblas.dylib' (no such file), '/Users/billdeng/anaconda3/envs/de_novo/lib/python3.10/site-packages/numpy/core/../../../../libopenblas.dylib' (no such file), '/Users/billdeng/anaconda3/envs/de_novo/lib/libopenblas.dylib' (no such file), '/Users/billdeng/anaconda3/envs/de_novo/lib/libopenblas.dylib' (no such file), '/Users/billdeng/anaconda3/envs/de_novo/lib/python3.10/site-packages/numpy/core/../../../../libopenblas.dylib' (no such file), '/Users/billdeng/anaconda3/envs/de_novo/bin/../lib/libopenblas.dylib' (no such file), '/Users/billdeng/anaconda3/envs/de_novo/bin/../lib/libopenblas.dylib' (no such file), '/usr/local/lib/libopenblas.dylib' (no such file), '/usr/lib/libopenblas.dylib' (no such file)\n"
     ]
    }
   ],
   "source": [
    "import numpy as np\n",
    "from collections import defaultdict\n",
    "import random\n",
    "import matplotlib.pyplot as plt\n",
    "import time\n",
    "from IPython.display import clear_output"
   ]
  },
  {
   "cell_type": "markdown",
   "metadata": {},
   "source": [
    "Setup Evironment"
   ]
  },
  {
   "cell_type": "code",
   "execution_count": 2,
   "metadata": {},
   "outputs": [],
   "source": [
    "class CircleEnv:\n",
    "    def __init__(self):\n",
    "        self.position = 0\n",
    "        self.target_area = (-0.5, 0.5)\n",
    "        self.step_size = 0.05\n",
    "        self.borders = (-10, 10)\n",
    "\n",
    "    def reset(self):\n",
    "        self.position = random.uniform(self.borders[0], self.borders[1])\n",
    "        return self.position\n",
    "\n",
    "    def step(self, action):\n",
    "        reward = 0\n",
    "        done = False\n",
    "        old_position = self.position\n",
    "        if action == 0: # Move left\n",
    "            self.position = max(self.position - self.step_size, self.borders[0])\n",
    "        elif action == 1: # Move right\n",
    "            self.position = min(self.position + self.step_size, self.borders[1])\n",
    "\n",
    "        if abs(old_position) > abs(self.position): # If we moved closer to the center\n",
    "            reward += 0.05\n",
    "        elif abs(old_position) < abs(self.position): # If we moved further from the center\n",
    "            reward -= -0.05\n",
    "        \n",
    "        if self.target_area[0] <= self.position <= self.target_area[1]:\n",
    "            reward += 10\n",
    "            done = True\n",
    "        else:\n",
    "            reward += -0.1 # Small cost for steps\n",
    "\n",
    "        return self.position, reward, done\n",
    "\n"
   ]
  },
  {
   "cell_type": "markdown",
   "metadata": {},
   "source": [
    "The agent"
   ]
  },
  {
   "cell_type": "code",
   "execution_count": 3,
   "metadata": {},
   "outputs": [],
   "source": [
    "\n",
    "class QLearningAgent:\n",
    "    def __init__(self, alpha=0.1, gamma=0.9, epsilon=0.1):\n",
    "        self.alpha = alpha # learning rate\n",
    "        self.gamma = gamma # discount factor\n",
    "        self.epsilon = epsilon # exploration rate\n",
    "        self.q_values = defaultdict(lambda: [0, 0, 0]) # 3 actions: left, right, no action\n",
    "\n",
    "    def select_action(self, state):\n",
    "        if random.random() < self.epsilon:\n",
    "            return random.choice([0, 1, 2])\n",
    "        else:\n",
    "            return max(range(3), key=lambda a: self.q_values[state][a])\n",
    "\n",
    "    def update(self, state, action, reward, next_state):\n",
    "        next_action = self.select_action(next_state)\n",
    "        self.q_values[state][action] = (1 - self.alpha) * self.q_values[state][action] \\\n",
    "            + self.alpha * (reward + self.gamma * self.q_values[next_state][next_action])\n"
   ]
  },
  {
   "cell_type": "markdown",
   "metadata": {},
   "source": [
    "Run episodes "
   ]
  },
  {
   "cell_type": "code",
   "execution_count": 4,
   "metadata": {},
   "outputs": [
    {
     "name": "stdout",
     "output_type": "stream",
     "text": [
      "Episode 100: Total Reward: 4.400000000000011\n",
      "Episode 200: Total Reward: -21.450000000000305\n",
      "Episode 300: Total Reward: -13.000000000000188\n",
      "Episode 400: Total Reward: 3.9500000000000144\n",
      "Episode 500: Total Reward: 4.600000000000012\n",
      "Episode 600: Total Reward: -16.40000000000024\n",
      "Episode 700: Total Reward: 5.350000000000009\n",
      "Episode 800: Total Reward: 10.05\n",
      "Episode 900: Total Reward: 10.05\n",
      "Episode 1000: Total Reward: 2.050000000000021\n",
      "Episode 1100: Total Reward: 1.20000000000001\n",
      "Episode 1200: Total Reward: 0.19999999999999574\n",
      "Episode 1300: Total Reward: 3.6500000000000155\n",
      "Episode 1400: Total Reward: 2.5000000000000195\n",
      "Episode 1500: Total Reward: 10.05\n",
      "Episode 1600: Total Reward: 9.350000000000001\n",
      "Episode 1700: Total Reward: -5.650000000000087\n",
      "Episode 1800: Total Reward: 6.250000000000006\n",
      "Episode 1900: Total Reward: 6.050000000000007\n",
      "Episode 2000: Total Reward: -2.30000000000004\n",
      "Episode 2100: Total Reward: -17.250000000000252\n",
      "Episode 2200: Total Reward: 6.300000000000006\n"
     ]
    },
    {
     "ename": "KeyboardInterrupt",
     "evalue": "",
     "output_type": "error",
     "traceback": [
      "\u001B[1;31m---------------------------------------------------------------------------\u001B[0m",
      "\u001B[1;31mKeyboardInterrupt\u001B[0m                         Traceback (most recent call last)",
      "Cell \u001B[1;32mIn[4], line 24\u001B[0m\n\u001B[0;32m     21\u001B[0m agent \u001B[39m=\u001B[39m QLearningAgent()\n\u001B[0;32m     23\u001B[0m \u001B[39m# Train the agent\u001B[39;00m\n\u001B[1;32m---> 24\u001B[0m train(agent, env)\n",
      "Cell \u001B[1;32mIn[4], line 12\u001B[0m, in \u001B[0;36mtrain\u001B[1;34m(agent, env, episodes)\u001B[0m\n\u001B[0;32m     10\u001B[0m next_state, reward, done \u001B[39m=\u001B[39m env\u001B[39m.\u001B[39mstep(action)\n\u001B[0;32m     11\u001B[0m next_state \u001B[39m=\u001B[39m \u001B[39mint\u001B[39m(next_state \u001B[39m/\u001B[39m\u001B[39m/\u001B[39m \u001B[39m0.05\u001B[39m) \u001B[39m# Discretize the continuous state space\u001B[39;00m\n\u001B[1;32m---> 12\u001B[0m agent\u001B[39m.\u001B[39;49mupdate(state, action, reward, next_state)\n\u001B[0;32m     13\u001B[0m state \u001B[39m=\u001B[39m next_state\n\u001B[0;32m     14\u001B[0m total_reward \u001B[39m+\u001B[39m\u001B[39m=\u001B[39m reward\n",
      "Cell \u001B[1;32mIn[3], line 15\u001B[0m, in \u001B[0;36mQLearningAgent.update\u001B[1;34m(self, state, action, reward, next_state)\u001B[0m\n\u001B[0;32m     14\u001B[0m \u001B[39mdef\u001B[39;00m \u001B[39mupdate\u001B[39m(\u001B[39mself\u001B[39m, state, action, reward, next_state):\n\u001B[1;32m---> 15\u001B[0m     next_action \u001B[39m=\u001B[39m \u001B[39mself\u001B[39;49m\u001B[39m.\u001B[39;49mselect_action(next_state)\n\u001B[0;32m     16\u001B[0m     \u001B[39mself\u001B[39m\u001B[39m.\u001B[39mq_values[state][action] \u001B[39m=\u001B[39m (\u001B[39m1\u001B[39m \u001B[39m-\u001B[39m \u001B[39mself\u001B[39m\u001B[39m.\u001B[39malpha) \u001B[39m*\u001B[39m \u001B[39mself\u001B[39m\u001B[39m.\u001B[39mq_values[state][action] \\\n\u001B[0;32m     17\u001B[0m         \u001B[39m+\u001B[39m \u001B[39mself\u001B[39m\u001B[39m.\u001B[39malpha \u001B[39m*\u001B[39m (reward \u001B[39m+\u001B[39m \u001B[39mself\u001B[39m\u001B[39m.\u001B[39mgamma \u001B[39m*\u001B[39m \u001B[39mself\u001B[39m\u001B[39m.\u001B[39mq_values[next_state][next_action])\n",
      "Cell \u001B[1;32mIn[3], line 12\u001B[0m, in \u001B[0;36mQLearningAgent.select_action\u001B[1;34m(self, state)\u001B[0m\n\u001B[0;32m     10\u001B[0m     \u001B[39mreturn\u001B[39;00m random\u001B[39m.\u001B[39mchoice([\u001B[39m0\u001B[39m, \u001B[39m1\u001B[39m, \u001B[39m2\u001B[39m])\n\u001B[0;32m     11\u001B[0m \u001B[39melse\u001B[39;00m:\n\u001B[1;32m---> 12\u001B[0m     \u001B[39mreturn\u001B[39;00m \u001B[39mmax\u001B[39;49m(\u001B[39mrange\u001B[39;49m(\u001B[39m3\u001B[39;49m), key\u001B[39m=\u001B[39;49m\u001B[39mlambda\u001B[39;49;00m a: \u001B[39mself\u001B[39;49m\u001B[39m.\u001B[39;49mq_values[state][a])\n",
      "Cell \u001B[1;32mIn[3], line 12\u001B[0m, in \u001B[0;36mQLearningAgent.select_action.<locals>.<lambda>\u001B[1;34m(a)\u001B[0m\n\u001B[0;32m     10\u001B[0m     \u001B[39mreturn\u001B[39;00m random\u001B[39m.\u001B[39mchoice([\u001B[39m0\u001B[39m, \u001B[39m1\u001B[39m, \u001B[39m2\u001B[39m])\n\u001B[0;32m     11\u001B[0m \u001B[39melse\u001B[39;00m:\n\u001B[1;32m---> 12\u001B[0m     \u001B[39mreturn\u001B[39;00m \u001B[39mmax\u001B[39m(\u001B[39mrange\u001B[39m(\u001B[39m3\u001B[39m), key\u001B[39m=\u001B[39m\u001B[39mlambda\u001B[39;00m a: \u001B[39mself\u001B[39m\u001B[39m.\u001B[39mq_values[state][a])\n",
      "\u001B[1;31mKeyboardInterrupt\u001B[0m: "
     ]
    }
   ],
   "source": [
    "def train(agent, env, episodes=10000):\n",
    "    for episode in range(episodes):\n",
    "        state = env.reset()\n",
    "        state = int(state // 0.05) # Discretize the continuous state space\n",
    "        done = False\n",
    "        total_reward = 0\n",
    "\n",
    "        while not done:\n",
    "            action = agent.select_action(state)\n",
    "            next_state, reward, done = env.step(action)\n",
    "            next_state = int(next_state // 0.05) # Discretize the continuous state space\n",
    "            agent.update(state, action, reward, next_state)\n",
    "            state = next_state\n",
    "            total_reward += reward\n",
    "\n",
    "        if (episode + 1) % 100 == 0:\n",
    "            print(f\"Episode {episode + 1}: Total Reward: {total_reward}\")\n",
    "\n",
    "# Create environment and agent instances\n",
    "env = CircleEnv()\n",
    "agent = QLearningAgent()\n",
    "\n",
    "# Train the agent\n",
    "train(agent, env)\n"
   ]
  },
  {
   "cell_type": "markdown",
   "metadata": {},
   "source": []
  },
  {
   "cell_type": "code",
   "execution_count": null,
   "metadata": {},
   "outputs": [
    {
     "data": {
      "image/png": "[encoded data removed]",
      "text/plain": [
       "<Figure size 640x480 with 1 Axes>"
      ]
     },
     "metadata": {},
     "output_type": "display_data"
    }
   ],
   "source": [
    "\n",
    "def visualize_policy(agent, env):\n",
    "    state = env.reset()\n",
    "    state = int(state // 0.05) # Discretize the continuous state space\n",
    "    positions = [state * 0.05] # Storing positions to plot later\n",
    "\n",
    "    plt.figure(figsize=(10, 5))\n",
    "    plt.axhline(y=0.5, color='r', linestyle='--')\n",
    "    plt.axhline(y=-0.5, color='r', linestyle='--')\n",
    "    plt.xlabel(\"Timestep\")\n",
    "    plt.ylabel(\"Position\")\n",
    "    plt.title(\"Visualization of Best Policy\")\n",
    "\n",
    "    done = False\n",
    "    while not done:\n",
    "        action = agent.select_action(state) # Choose the best action according to learned Q-values\n",
    "        next_state, _, done = env.step(action)\n",
    "        next_state = int(next_state // 0.05)\n",
    "        positions.append(next_state * 0.05)\n",
    "        state = next_state\n",
    "        \n",
    "        plt.plot(positions)\n",
    "        plt.xlim([0, len(positions)])\n",
    "        plt.ylim([-10, 10])\n",
    "        clear_output(wait=True) # Clear the previous plot in the Jupyter cell\n",
    "        plt.show()\n",
    "\n",
    "visualize_policy(agent, env)\n"
   ]
  }
 ],
 "metadata": {
  "kernelspec": {
   "display_name": ".venv",
   "language": "python",
   "name": "python3"
  },
  "language_info": {
   "codemirror_mode": {
    "name": "ipython",
    "version": 3
   },
   "file_extension": ".py",
   "mimetype": "text/x-python",
   "name": "python",
   "nbconvert_exporter": "python",
   "pygments_lexer": "ipython3",
   "version": "3.11.4"
  },
  "orig_nbformat": 4
 },
 "nbformat": 4,
 "nbformat_minor": 2
}
